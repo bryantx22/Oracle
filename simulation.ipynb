{
 "cells": [
  {
   "cell_type": "markdown",
   "metadata": {},
   "source": [
    "## Optimal Taxation Simulation - Constant Elasticity"
   ]
  },
  {
   "cell_type": "markdown",
   "metadata": {},
   "source": [
    "---"
   ]
  },
  {
   "cell_type": "markdown",
   "metadata": {},
   "source": [
    "Following BSS's approach"
   ]
  },
  {
   "cell_type": "markdown",
   "metadata": {},
   "source": [
    "Outline:\n",
    "\n",
    "* Have individuals optimize （quasi-linear + iso-elastic）\n",
    "* Numerically integrate FOC \n",
    "* Interpolate tax schedule\n",
    "* Numerically optimize for $z$ and check z(w) is non-decreasing (throw an error otherwise)\n",
    "* Repeat"
   ]
  },
  {
   "cell_type": "markdown",
   "metadata": {},
   "source": [
    "---"
   ]
  },
  {
   "cell_type": "markdown",
   "metadata": {},
   "source": [
    "* Important to maintain the convexity of the tax schedule!\n",
    "* Numerical integration issues"
   ]
  },
  {
   "cell_type": "code",
   "execution_count": 15,
   "metadata": {},
   "outputs": [],
   "source": [
    "import numpy as np \n",
    "import matplotlib.pyplot as plt\n",
    "from scipy.stats import norm\n",
    "from scipy.optimize import minimize\n",
    "from scipy import integrate\n",
    "from scipy.interpolate import interp1d"
   ]
  },
  {
   "cell_type": "code",
   "execution_count": 16,
   "metadata": {},
   "outputs": [],
   "source": [
    "# some global constants\n",
    "bin_start = 0.01\n",
    "nbins = 300\n",
    "bin = 1.75\n",
    "e = 0.5\n",
    "gamma = 1\n",
    "tol = 1e-6 # tolerance for termination"
   ]
  },
  {
   "cell_type": "code",
   "execution_count": 17,
   "metadata": {},
   "outputs": [],
   "source": [
    "transfer = 0 # initially"
   ]
  },
  {
   "cell_type": "markdown",
   "metadata": {},
   "source": [
    "### 1. Define the distribution and make a discretized version\n"
   ]
  },
  {
   "cell_type": "markdown",
   "metadata": {},
   "source": [
    "We use a log normal distribution with $\\mu = 2.757$ and $\\sigma = 0.5611$ as MWY though we do not have an atom at $0.01$ for simplicity."
   ]
  },
  {
   "cell_type": "code",
   "execution_count": 18,
   "metadata": {},
   "outputs": [],
   "source": [
    "mu = 2.757\n",
    "sigma = 0.5611\n",
    "wages = [0.01 + bin * i for i in range(0, nbins)] # synnonymous with ability, for now\n",
    "top = wages[-1]"
   ]
  },
  {
   "cell_type": "code",
   "execution_count": 19,
   "metadata": {},
   "outputs": [],
   "source": [
    "normal = norm(loc=0, scale=1)\n",
    "pmf = []\n",
    "\n",
    "for wage in wages:\n",
    "    bin_lower = max(0.01, wage - bin/2)\n",
    "    bin_upper = wage + bin/2\n",
    "    pmf.append(normal.cdf((np.log(bin_upper) - mu)/sigma) - normal.cdf((np.log(bin_lower) - mu)/sigma))\n",
    "\n",
    "pmf = 1 / np.sum(pmf) * np.array(pmf)"
   ]
  },
  {
   "cell_type": "markdown",
   "metadata": {},
   "source": [
    "### 2. Define agents"
   ]
  },
  {
   "cell_type": "markdown",
   "metadata": {},
   "source": [
    "The utility function we use is:\n",
    "\n",
    "$$U(c, l) = u(c) + v(l) = c - \\frac{n}{1 + 1/e} \\cdot \\bigg(\\frac{z}{n}\\bigg)^{1 + 1/e}$$\n",
    "\n",
    "s.t.\n",
    "\n",
    "$$ c \\leq w \\cdot l - T(w \\cdot l)$$\n",
    "\n",
    "Note that $T(0) = -R$ is the transfer."
   ]
  },
  {
   "cell_type": "code",
   "execution_count": 20,
   "metadata": {},
   "outputs": [],
   "source": [
    "def get_poly_func(coefs):\n",
    "\n",
    "    def poly_func(z):\n",
    "        val = 0\n",
    "        for (deg, coef) in enumerate(coefs):\n",
    "                val += coef * z**deg\n",
    "        return val\n",
    "\n",
    "    return poly_func"
   ]
  },
  {
   "cell_type": "code",
   "execution_count": 21,
   "metadata": {},
   "outputs": [],
   "source": [
    "class Agent:\n",
    "\n",
    "    def __init__(self, wage):\n",
    "\n",
    "        # note that this is a separating equilibrium, so higher ability workers always work more \n",
    "        # okay to assume the relative ordering stays the same over time\n",
    "\n",
    "        self.wage = wage\n",
    "        self.ls = 0.65**e # the guessed labor supply assuming a flat rate of 0.35\n",
    "        self.util = None\n",
    "        self.dudc = None # u'(c(theta))\n",
    "        self.consumption = None\n",
    "        self.taxpaid = None\n",
    "        self.mrate = 0.35\n",
    "    \n",
    "    def max_util(self, transfer, tax_burden):\n",
    "        '''\n",
    "        utility maximization assuming Walrus's law holds (no extra budget)\n",
    "\n",
    "        transfer: (float) from the government.\n",
    "        tax_burden: (function) Takes in z and returns T(z) - T(0)\n",
    "        '''\n",
    "        \n",
    "        # negative of the utility function since the routine minimizes instead of optimizes\n",
    "        \n",
    "        neg_utility_func = lambda l: -1 * (l * self.wage - tax_burden(l * self.wage) + transfer - self.wage / (1 + 1/e) * l**(1 + 1/e))\n",
    "        non_neg_cons = lambda l: l # automatically interprets as l >= 0\n",
    "        cons = {'type': 'ineq', 'fun': non_neg_cons}\n",
    "        result = minimize(neg_utility_func, self.ls, constraints=cons)\n",
    "\n",
    "        self.ls, self.util = result.x[0], result.fun * (-1) # new optimal labor supply\n",
    "        self.taxpaid = tax_burden(self.wage*self.ls)\n",
    "        self.consumption = self.wage*self.ls - self.taxpaid + transfer\n",
    "        self.dudc = 1 # quasi-linear\n",
    "\n",
    "        return self.ls*self.wage # pre-tax earnings this turn"
   ]
  },
  {
   "cell_type": "markdown",
   "metadata": {},
   "source": [
    "Intialization for the search is important for the speed of convergence. We use the previous optimal labor supply as an educated guess for the starting point of the search under the new schedule."
   ]
  },
  {
   "cell_type": "markdown",
   "metadata": {},
   "source": [
    "### 3. Iterating to find the fixed point"
   ]
  },
  {
   "cell_type": "markdown",
   "metadata": {},
   "source": [
    "#### 3.1 - Intialize a starting tax schedule $(T'(w) \\equiv 0.35)$"
   ]
  },
  {
   "cell_type": "code",
   "execution_count": 22,
   "metadata": {},
   "outputs": [],
   "source": [
    "# initially - initialize the economy - flat tax schedule\n",
    "agents = []\n",
    "tax_burden = get_poly_func([0, 0.35])\n",
    "\n",
    "for wage in wages:\n",
    "    agent = Agent(wage)\n",
    "    optimal_wage = agent.max_util(transfer, tax_burden)\n",
    "    agents.append(agent)"
   ]
  },
  {
   "cell_type": "markdown",
   "metadata": {},
   "source": [
    "#### Update rule:\n",
    "\n",
    "BSS's update rule, note the difference in SWF compared to MWY\n",
    "\n",
    "$$\\frac{T'(z)}{1 - T'(z)} = \\frac{1}{e \\cdot w \\cdot f(w)} \\cdot \\int_w^{\\infty} \\bigg(1 - \\frac{u(w)^{-\\gamma}}{\\lambda}\\bigg)f(w)dw$$"
   ]
  },
  {
   "cell_type": "markdown",
   "metadata": {},
   "source": [
    "$$\\lambda = \\int_0^{\\infty} u(w)^{-\\gamma}f(w) dw $$"
   ]
  },
  {
   "cell_type": "markdown",
   "metadata": {},
   "source": [
    "* Need to interpolate $u(w)^{-\\gamma}$"
   ]
  },
  {
   "cell_type": "code",
   "execution_count": 23,
   "metadata": {},
   "outputs": [],
   "source": [
    "def density_ln(mean, std, x):\n",
    "\n",
    "    '''\n",
    "    Helper function that returns the log normal density with the specified parameters at x\n",
    "\n",
    "    Inputs:\n",
    "    mean: (float) mean of ln dist\n",
    "    std: (float) standard deviation of ln dist\n",
    "    x: (float) evaluation point\n",
    "\n",
    "    Outputs:\n",
    "    (float) density\n",
    "    '''\n",
    "\n",
    "    return 1/(x * std * np.sqrt(2 * np.pi)) * np.exp(-1 * (np.log(x) - mean)**2 / (2 * std**2))"
   ]
  },
  {
   "cell_type": "code",
   "execution_count": 24,
   "metadata": {},
   "outputs": [],
   "source": [
    "def interp_util (wages, agents, gamma):\n",
    "\n",
    "    x = np.array(wages)\n",
    "    y = np.array([agent.util**(-1 * gamma) for agent in agents])\n",
    "\n",
    "    # Create an interpolation function\n",
    "    interp_func = interp1d(x, y, kind='linear')\n",
    "\n",
    "    return interp_func"
   ]
  },
  {
   "cell_type": "code",
   "execution_count": 25,
   "metadata": {},
   "outputs": [],
   "source": [
    "interp_gamma_util_func = interp_util(wages, agents, gamma)"
   ]
  },
  {
   "cell_type": "code",
   "execution_count": 26,
   "metadata": {},
   "outputs": [
    {
     "name": "stderr",
     "output_type": "stream",
     "text": [
      "C:\\Users\\Bryant Xia\\AppData\\Local\\Temp\\ipykernel_6916\\246681242.py:13: IntegrationWarning: The maximum number of subdivisions (100) has been achieved.\n",
      "  If increasing the limit yields no improvement it is advised to analyze \n",
      "  the integrand in order to determine the difficulties.  If the position of a \n",
      "  local difficulty can be determined (singularity, discontinuity) one will \n",
      "  probably gain from splitting up the interval and calling the integrator \n",
      "  on the subranges.  Perhaps a special-purpose integrator should be used.\n",
      "  lambda_mult = integrate.quad(lambda_integrand, bin_start, top, limit=100)[0]\n"
     ]
    },
    {
     "name": "stdout",
     "output_type": "stream",
     "text": [
      "0 0.65 5.202832661386063\n"
     ]
    },
    {
     "name": "stderr",
     "output_type": "stream",
     "text": [
      "C:\\Users\\Bryant Xia\\AppData\\Local\\Temp\\ipykernel_6916\\246681242.py:13: IntegrationWarning: The occurrence of roundoff error is detected, which prevents \n",
      "  the requested tolerance from being achieved.  The error may be \n",
      "  underestimated.\n",
      "  lambda_mult = integrate.quad(lambda_integrand, bin_start, top, limit=100)[0]\n"
     ]
    },
    {
     "name": "stdout",
     "output_type": "stream",
     "text": [
      "1 0.7923371816908777 0.1541668133983345\n",
      "2 0.033223107665357715 1.5789682337128235\n",
      "3 0.04664021075751035 0.20355887311210363\n",
      "4 0.01327912459775804 0.230532145454855\n",
      "5 0.00694107600238883 0.06007008408811387\n",
      "6 0.002881115563824227 0.03303097383246545\n",
      "7 0.0008654055235155222 0.01384756958747868\n",
      "8 0.0005926649703306419 0.004125099646723029\n",
      "9 8.269607380037569e-05 0.002795364969364833\n",
      "10 0.00010876923455843679 0.0004584083709815445\n",
      "11 4.987880666135203e-06 0.000582670677866659\n",
      "12 2.156650209264588e-05 3.538078122122812e-05\n",
      "13 1.1287321417252638e-06 0.0001259251163086006\n",
      "14 4.584996756484827e-06 3.137915390638568e-06\n",
      "15 0 2.4252309590799825e-05\n",
      "16 1.4272416200278304e-06 7.599700166949219e-07\n",
      "17 0 4.273562179690771e-06\n",
      "18 0 7.203455725246499e-07\n"
     ]
    }
   ],
   "source": [
    "iterations = 0\n",
    "\n",
    "while True:\n",
    "\n",
    "    revenue_check = True # if the new tansfer is within 1e-6 of the prev\n",
    "    derivative_check = True # if marginal taxes are not updated by more than 1e-6\n",
    "    worst_diff = 0 # largest absolute difference in rate update\n",
    "\n",
    "    # components of RHS\n",
    "\n",
    "    interp_gamma_util_func = interp_util(wages, agents, gamma)\n",
    "    lambda_integrand = lambda w: interp_gamma_util_func(w) * density_ln(mu, sigma, w)\n",
    "    lambda_mult = integrate.quad(lambda_integrand, bin_start, top, limit=100)[0]\n",
    "\n",
    "    prev_integral_val = 0\n",
    "    new_rates = []\n",
    "    new_zs = []\n",
    "\n",
    "    revenue = np.dot(pmf, np.array([agent.taxpaid for agent in agents]))\n",
    "\n",
    "    for (index, agent) in enumerate(reversed(agents)):\n",
    "\n",
    "        rhs_integrand = lambda w: (1 - interp_gamma_util_func(w) / lambda_mult) * density_ln(mu, sigma, w)\n",
    "        \n",
    "        if index == 0:\n",
    "            rhs_integral_val = integrate.quad(rhs_integrand, agent.wage, top, limit=100)[0]\n",
    "        else:\n",
    "            rhs_integral_val = integrate.quad(rhs_integrand, agent.wage, agents[len(agents) - index].wage, limit=100)[0] + prev_integral_val\n",
    "        \n",
    "        prev_integral_val = rhs_integral_val\n",
    "        rhs = 1 / e * 1 / (agent.wage * density_ln(mu, sigma, agent.wage)) * rhs_integral_val\n",
    "        new_rate = max(rhs/(1 + rhs), 0) # negative rates never optimal\n",
    "\n",
    "\n",
    "        if abs(agent.mrate - new_rate) > tol:\n",
    "            if abs(agent.mrate - new_rate) > worst_diff:\n",
    "                worst_diff = abs(agent.mrate - new_rate)\n",
    "            agent.mrate = new_rate\n",
    "            derivative_check = False\n",
    "\n",
    "        new_rates.append((agent.mrate + new_rate)/2) # step size control\n",
    "        new_zs.append(agent.ls * agent.wage)\n",
    "\n",
    "    if abs(transfer - revenue) > tol:\n",
    "        revenue_check = False\n",
    "\n",
    "    print(iterations, worst_diff, abs(revenue - transfer))\n",
    "     \n",
    "    if revenue_check and derivative_check:\n",
    "        break\n",
    "\n",
    "    transfer = revenue\n",
    "\n",
    "    coefs = np.polyfit(new_zs, new_rates, deg = 2)\n",
    "    tax_schedule = []\n",
    "    for (deg, coef) in enumerate(coefs[1:]):\n",
    "        tax_schedule.append(deg * coef)\n",
    "    tax_burden = get_poly_func(tax_schedule)\n",
    "\n",
    "    for agent in agents:\n",
    "        optimal_wage = agent.max_util(transfer, tax_burden)\n",
    "\n",
    "    iterations += 1"
   ]
  },
  {
   "cell_type": "markdown",
   "metadata": {},
   "source": [
    "### Visuals:"
   ]
  },
  {
   "cell_type": "code",
   "execution_count": 30,
   "metadata": {},
   "outputs": [
    {
     "data": {
      "text/plain": [
       "[<matplotlib.lines.Line2D at 0x174fec64a50>]"
      ]
     },
     "execution_count": 30,
     "metadata": {},
     "output_type": "execute_result"
    },
    {
     "data": {
      "image/png": "[encoded data removed]",
      "text/plain": [
       "<Figure size 640x480 with 1 Axes>"
      ]
     },
     "metadata": {},
     "output_type": "display_data"
    }
   ],
   "source": [
    "xs = []\n",
    "ys = []\n",
    "\n",
    "for agent in agents:\n",
    "    xs.append(agent.wage * agent.ls * 1000)\n",
    "    ys.append(agent.mrate)\n",
    "\n",
    "plt.plot(xs, ys)"
   ]
  },
  {
   "cell_type": "code",
   "execution_count": 32,
   "metadata": {},
   "outputs": [
    {
     "data": {
      "text/plain": [
       "[<matplotlib.lines.Line2D at 0x174fec56550>]"
      ]
     },
     "execution_count": 32,
     "metadata": {},
     "output_type": "execute_result"
    },
    {
     "data": {
      "image/png": "[encoded data removed]",
      "text/plain": [
       "<Figure size 640x480 with 1 Axes>"
      ]
     },
     "metadata": {},
     "output_type": "display_data"
    }
   ],
   "source": [
    "xs = []\n",
    "ys = []\n",
    "\n",
    "for agent in agents:\n",
    "    xs.append(agent.wage)\n",
    "    ys.append(agent.ls)\n",
    "\n",
    "plt.plot(xs, ys)"
   ]
  }
 ],
 "metadata": {
  "kernelspec": {
   "display_name": "Python 3",
   "language": "python",
   "name": "python3"
  },
  "language_info": {
   "codemirror_mode": {
    "name": "ipython",
    "version": 3
   },
   "file_extension": ".py",
   "mimetype": "text/x-python",
   "name": "python",
   "nbconvert_exporter": "python",
   "pygments_lexer": "ipython3",
   "version": "3.11.1"
  }
 },
 "nbformat": 4,
 "nbformat_minor": 2
}
