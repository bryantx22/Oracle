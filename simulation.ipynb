{
 "cells": [
  {
   "cell_type": "markdown",
   "metadata": {},
   "source": [
    "## Optimal Taxation Simulation - Constant Elasticity"
   ]
  },
  {
   "cell_type": "markdown",
   "metadata": {},
   "source": [
    "---"
   ]
  },
  {
   "cell_type": "markdown",
   "metadata": {},
   "source": [
    "Following BSS's approach"
   ]
  },
  {
   "cell_type": "markdown",
   "metadata": {},
   "source": [
    "Outline:\n",
    "\n",
    "* Have individuals optimize （quasi-linear + iso-elastic）\n",
    "* Numerically integrate FOC \n",
    "* Interpolate tax schedule\n",
    "* Numerically optimize for $z$ and check z(w) is non-decreasing (throw an error otherwise)\n",
    "* Repeat"
   ]
  },
  {
   "cell_type": "markdown",
   "metadata": {},
   "source": [
    "---"
   ]
  },
  {
   "cell_type": "markdown",
   "metadata": {},
   "source": [
    "Fixes (TODO):\n",
    "* No need to integrate $T(z)$, do this once with a loop and then rely on a dictionary to make it O(1)"
   ]
  },
  {
   "cell_type": "code",
   "execution_count": 11,
   "metadata": {},
   "outputs": [],
   "source": [
    "import numpy as np \n",
    "import matplotlib.pyplot as plt\n",
    "from scipy.stats import norm\n",
    "from scipy.optimize import minimize\n",
    "from scipy import integrate\n",
    "from scipy.interpolate import interp1d"
   ]
  },
  {
   "cell_type": "code",
   "execution_count": 13,
   "metadata": {},
   "outputs": [],
   "source": [
    "# some global constants\n",
    "bin_start = 0.01\n",
    "nbins = 25\n",
    "bin = 20\n",
    "top = bin_start + bin * nbins\n",
    "e = 0.5\n",
    "gamma = 1\n",
    "tol = 1e-6 # tolerance for termination"
   ]
  },
  {
   "cell_type": "code",
   "execution_count": 14,
   "metadata": {},
   "outputs": [],
   "source": [
    "transfer = 0 # initially"
   ]
  },
  {
   "cell_type": "markdown",
   "metadata": {},
   "source": [
    "### 1. Define the distribution and make a discretized version\n"
   ]
  },
  {
   "cell_type": "markdown",
   "metadata": {},
   "source": [
    "We use a log normal distribution with $\\mu = 2.757$ and $\\sigma = 0.5611$ as MWY though we do not have an atom at $0.01$ for simplicity."
   ]
  },
  {
   "cell_type": "code",
   "execution_count": 15,
   "metadata": {},
   "outputs": [],
   "source": [
    "mu = 2.757\n",
    "sigma = 0.5611\n",
    "\n",
    "normal = norm(loc = mu, scale = sigma)\n",
    "\n",
    "# exp^{normal} is log normal with the desired parameters \n",
    "\n",
    "wages = [0.01 + bin * i for i in range(0, nbins)] # synnonymous with ability, for now"
   ]
  },
  {
   "cell_type": "markdown",
   "metadata": {},
   "source": [
    "### 2. Define agents"
   ]
  },
  {
   "cell_type": "markdown",
   "metadata": {},
   "source": [
    "The utility function we use is:\n",
    "\n",
    "$$U(c, l) = u(c) + v(l) = c - \\frac{n}{1 + 1/e} \\cdot \\bigg(\\frac{z}{n}\\bigg)^{1 + 1/e}$$\n",
    "\n",
    "s.t.\n",
    "\n",
    "$$ c \\leq w \\cdot l - T(w \\cdot l)$$\n",
    "\n",
    "Note that $T(0) = -R$ is the transfer."
   ]
  },
  {
   "cell_type": "code",
   "execution_count": 16,
   "metadata": {},
   "outputs": [],
   "source": [
    "class Agent:\n",
    "\n",
    "    def __init__(self, wage):\n",
    "\n",
    "        # note that this is a separating equilibrium, so higher ability workers always work more \n",
    "        # okay to assume the relative ordering stays the same over time\n",
    "\n",
    "        self.wage = wage\n",
    "        self.ls = 0.65**e # the guessed labor supply assuming a flat rate of 0.35\n",
    "        self.util = None\n",
    "        self.dudc = None # u'(c(theta))\n",
    "        self.consumption = None\n",
    "        self.taxpaid = None\n",
    "\n",
    "    def taxes(self, tax_schedule, earnings):\n",
    "        '''\n",
    "        Inputs:\n",
    "        tax_schedule: (function) that takes in z and returns T(z) - T(0)\n",
    "        earnings: (float) input z\n",
    "\n",
    "        Returns:\n",
    "        (float) tax burden\n",
    "        '''\n",
    "        return integrate.quad(tax_schedule, bin_start, earnings, limit=100)[0]\n",
    "    \n",
    "    def max_util(self, transfer, tax_schedule):\n",
    "        '''\n",
    "        utility maximization assuming Walrus's law holds (no extra budget)\n",
    "        transfer: from the government.\n",
    "        tax schedule: see definition aboe\n",
    "        '''\n",
    "        \n",
    "        # negative of the utility function since the routine minimizes instead of optimizes\n",
    "        \n",
    "        neg_utility_func = lambda l: -1 * (l * self.wage - self.taxes(tax_schedule, l * self.wage) + transfer - self.wage / (1 + 1/e) * l**(1 + 1/e)) if l >= 0 else 1e9\n",
    "        result = minimize(neg_utility_func, self.ls)\n",
    "\n",
    "        self.ls, self.util = result.x[0], result.fun * -1 # new optimal labor supply\n",
    "        self.taxpaid = self.taxes(tax_schedule, self.wage*self.ls)\n",
    "        self.consumption = self.wage*self.ls - self.taxpaid + transfer\n",
    "        self.dudc = 1 # quasi-linear\n",
    "\n",
    "        return self.ls*self.wage # pre-tax earnings this turn"
   ]
  },
  {
   "cell_type": "markdown",
   "metadata": {},
   "source": [
    "Intialization for the search is important for the speed of convergence. We use the previous optimal labor supply as an educated guess for the starting point of the search under the new schedule."
   ]
  },
  {
   "cell_type": "markdown",
   "metadata": {},
   "source": [
    "### 3. Iterating to find the fixed point"
   ]
  },
  {
   "cell_type": "markdown",
   "metadata": {},
   "source": [
    "#### 3.1 - Intialize a starting tax schedule $(T'(w) \\equiv 0.35)$"
   ]
  },
  {
   "cell_type": "code",
   "execution_count": 17,
   "metadata": {},
   "outputs": [],
   "source": [
    "# initially - initialize the economy - flat tax schedule\n",
    "agents = []\n",
    "tax_schedule = lambda earnings: 0.35 # flat tax; note this specifices T'(z)\n",
    "\n",
    "for wage in wages:\n",
    "    agent = Agent(wage)\n",
    "    optimal_wage = agent.max_util(transfer, tax_schedule)\n",
    "    agents.append(agent)"
   ]
  },
  {
   "cell_type": "markdown",
   "metadata": {},
   "source": [
    "#### Update rule:\n",
    "\n",
    "BSS's update rule, note the difference in SWF compared to MWY\n",
    "\n",
    "$$\\frac{T'(z)}{T'(z)} = \\frac{1}{e \\cdot w \\cdot f(w)} \\cdot \\int_w^{\\infty} \\bigg(1 - \\frac{u(w)^{-\\gamma}}{\\lambda}\\bigg)f(w)dw$$"
   ]
  },
  {
   "cell_type": "markdown",
   "metadata": {},
   "source": [
    "$$\\lambda = \\int_0^{\\infty} u(w)^{-\\gamma}f(w) dw $$"
   ]
  },
  {
   "cell_type": "markdown",
   "metadata": {},
   "source": [
    "* Need to interpolate $u(w)^{-\\gamma}$"
   ]
  },
  {
   "cell_type": "code",
   "execution_count": 18,
   "metadata": {},
   "outputs": [],
   "source": [
    "def density_ln(mean, std, x):\n",
    "\n",
    "    '''\n",
    "    Helper function that returns the log normal density with the specified parameters at x\n",
    "\n",
    "    Inputs:\n",
    "    mean: (float) mean of ln dist\n",
    "    std: (float) standard deviation of ln dist\n",
    "    x: (float) evaluation point\n",
    "\n",
    "    Outputs:\n",
    "    (float) density\n",
    "    '''\n",
    "\n",
    "    return 1/(x * std * np.sqrt(2 * np.pi)) * np.exp(-1 * (np.log(x) - mean)**2 / (2 * std**2))"
   ]
  },
  {
   "cell_type": "code",
   "execution_count": 19,
   "metadata": {},
   "outputs": [],
   "source": [
    "def interp_util (wages, agents, gamma):\n",
    "\n",
    "    x = np.array(wages)\n",
    "    y = np.array([agent.util**(-1 * gamma) for agent in agents])\n",
    "\n",
    "    # Create an interpolation function\n",
    "    interp_func = interp1d(x, y, kind='linear', fill_value='extrapolate')\n",
    "\n",
    "    return interp_func\n",
    "\n",
    "def interp_revenue (wages, agents):\n",
    "\n",
    "    x = np.array(wages)\n",
    "    y = np.array([agent.taxpaid for agent in agents])\n",
    "\n",
    "    # Create an interpolation function\n",
    "    interp_func = interp1d(x, y, kind='linear', fill_value='extrapolate')\n",
    "\n",
    "    return interp_func"
   ]
  },
  {
   "cell_type": "code",
   "execution_count": 20,
   "metadata": {},
   "outputs": [],
   "source": [
    "interp_gamma_util_func = interp_util(wages, agents, gamma)"
   ]
  },
  {
   "cell_type": "code",
   "execution_count": null,
   "metadata": {},
   "outputs": [],
   "source": [
    "iterations = 0\n",
    "\n",
    "while True:\n",
    "\n",
    "    print(\"At iteration: \", iterations)\n",
    "\n",
    "    revenue_check = True # if the new tansfer is within 1e-6 of the prev\n",
    "    derivative_check = True # if marginal taxes are not updated by more than 1e-6\n",
    "\n",
    "    # components of RHS\n",
    "\n",
    "    interp_gamma_util_func = interp_util(wages, agents, gamma)\n",
    "    lambda_integrand = lambda w: interp_gamma_util_func(w) * density_ln(mu, sigma, w)\n",
    "    lambda_mult = integrate.quad(lambda_integrand, bin_start, top, limit=100)[0]\n",
    "    interp_revenue_func = interp_revenue(wages, agents)\n",
    "\n",
    "    prev_integral_val = 0\n",
    "    new_rates = []\n",
    "    new_zs = []\n",
    "\n",
    "    rev_integrand = lambda w: interp_revenue_func(w) * density_ln(mu, sigma, w) \n",
    "    revenue = integrate.quad(rev_integrand, bin_start, top)[0]\n",
    "\n",
    "    for (index, agent) in enumerate(reversed(agents)):\n",
    "\n",
    "        rhs_integrand = lambda w: (1 - interp_gamma_util_func(w) / lambda_mult) * density_ln(mu, sigma, w)\n",
    "        \n",
    "        if index == 0:\n",
    "            rhs_integral_val = integrate.quad(rhs_integrand, agent.wage, top + bin, limit=100)[0]\n",
    "        else:\n",
    "            rhs_integral_val = integrate.quad(rhs_integrand, agent.wage, agents[len(agents) - index].wage, limit=100)[0] + prev_integral_val\n",
    "        \n",
    "        prev_integral_val = rhs_integral_val\n",
    "        rhs = 1 / e * 1 / (agent.wage * density_ln(mu, sigma, agent.wage)) * rhs_integral_val\n",
    "        new_rates.append(rhs/(1 + rhs)) # negative rates never optimal\n",
    "        new_zs.append(agent.ls * agent.wage)\n",
    "\n",
    "    if abs(transfer - revenue) > tol:\n",
    "        revenue_check = False\n",
    "\n",
    "    transfer = revenue\n",
    "     \n",
    "    if revenue_check and derivative_check:\n",
    "        break\n",
    "\n",
    "    tax_schedule = interp1d(np.array(new_zs), np.array(new_rates), kind='linear', fill_value='extrapolate')\n",
    "\n",
    "    for agent in agents:\n",
    "        print(agent.wage)\n",
    "        optimal_wage = agent.max_util(transfer, tax_schedule)\n",
    "\n",
    "    iterations += 1"
   ]
  },
  {
   "cell_type": "markdown",
   "metadata": {},
   "source": [
    "### Visuals:"
   ]
  },
  {
   "cell_type": "code",
   "execution_count": null,
   "metadata": {},
   "outputs": [],
   "source": [
    "xs = []\n",
    "ys = []\n",
    "\n",
    "for agent in agents:\n",
    "    xs.append(agent.ls * agent.wage)\n",
    "    ys.append(tax_schedule(agent.ls * agent.wage))\n",
    "\n",
    "plt.plot(xs, ys)"
   ]
  }
 ],
 "metadata": {
  "kernelspec": {
   "display_name": "Python 3",
   "language": "python",
   "name": "python3"
  },
  "language_info": {
   "codemirror_mode": {
    "name": "ipython",
    "version": 3
   },
   "file_extension": ".py",
   "mimetype": "text/x-python",
   "name": "python",
   "nbconvert_exporter": "python",
   "pygments_lexer": "ipython3",
   "version": "3.11.1"
  }
 },
 "nbformat": 4,
 "nbformat_minor": 2
}
