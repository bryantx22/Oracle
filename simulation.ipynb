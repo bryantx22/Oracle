{
 "cells": [
  {
   "cell_type": "markdown",
   "metadata": {},
   "source": [
    "## Optimal Taxation Simulation - Constant Elasticity"
   ]
  },
  {
   "cell_type": "markdown",
   "metadata": {},
   "source": [
    "---"
   ]
  },
  {
   "cell_type": "markdown",
   "metadata": {},
   "source": [
    "Following BSS's approach"
   ]
  },
  {
   "cell_type": "markdown",
   "metadata": {},
   "source": [
    "Outline:\n",
    "\n",
    "* Have individuals optimize （quasi-linear + iso-elastic)\n",
    "* Numerically integrate FOC \n",
    "* Interpolate tax schedule\n",
    "* Numerically optimize for $z$ and check z(w) is non-decreasing (throw an error otherwise)\n",
    "* Repeat"
   ]
  },
  {
   "cell_type": "code",
   "execution_count": 1,
   "metadata": {},
   "outputs": [],
   "source": [
    "import numpy as np \n",
    "import matplotlib.pyplot as plt\n",
    "from scipy.stats import norm\n",
    "from scipy.optimize import minimize"
   ]
  },
  {
   "cell_type": "code",
   "execution_count": 5,
   "metadata": {},
   "outputs": [],
   "source": [
    "# some global constants\n",
    "bin_start = 0.01\n",
    "nbins = 1000\n",
    "bin = 0.5\n",
    "e = 1.5 \n",
    "tol = 1e-6 # tolerance for termination"
   ]
  },
  {
   "cell_type": "code",
   "execution_count": 3,
   "metadata": {},
   "outputs": [],
   "source": [
    "transfer = 0 # initially"
   ]
  },
  {
   "cell_type": "markdown",
   "metadata": {},
   "source": [
    "### 1. Define the distribution and make a discretized version\n"
   ]
  },
  {
   "cell_type": "markdown",
   "metadata": {},
   "source": [
    "We use a log normal distribution with $\\mu = 2.757$ and $\\sigma = 0.5611$ as MWY though we do not have an atom at $0.01$ for simplicity."
   ]
  },
  {
   "cell_type": "code",
   "execution_count": 12,
   "metadata": {},
   "outputs": [],
   "source": [
    "mu = 2.757\n",
    "sigma = 0.5611\n",
    "\n",
    "normal = norm(loc = mu, scale = sigma)\n",
    "\n",
    "# exp^{normal} is log normal with the desired parameters \n",
    "\n",
    "wages = [0.01 + bin * i for i in range(0, nbins)] # synnonymous with ability, for now"
   ]
  },
  {
   "cell_type": "markdown",
   "metadata": {},
   "source": [
    "### 2. Define agents"
   ]
  },
  {
   "cell_type": "markdown",
   "metadata": {},
   "source": [
    "The utility function we use is:\n",
    "\n",
    "$$U(c, l) = u(c) + v(l) = c - \\frac{n}{1 + 1/e} \\cdot \\bigg(\\frac{z}{n}\\bigg)^{1 + 1/e}$$\n",
    "\n",
    "s.t.\n",
    "\n",
    "$$ c \\leq w \\cdot l - T(w \\cdot l)$$\n",
    "\n",
    "Note that $T(0) = -R$ is the transfer."
   ]
  },
  {
   "cell_type": "code",
   "execution_count": 47,
   "metadata": {},
   "outputs": [],
   "source": [
    "class Agent:\n",
    "\n",
    "    def __init__(self, wage):\n",
    "\n",
    "        # note that this is a separating equilibrium, so higher ability workers always work more \n",
    "        # okay to assume the relative ordering stays the same over time\n",
    "\n",
    "        self.wage = wage\n",
    "        self.ls = (alpha/((0.65 * self.wage)**(1 - gamma)))**(1/(1 - gamma - sigma)) # the guessed labor supply assuming a flat rate of 0.35\n",
    "        self.dudc = None # u'(c(theta))\n",
    "        self.consumption = None\n",
    "        self.taxpaid = None\n",
    "\n",
    "    def taxes(self, tax_schedule, earnings):\n",
    "        '''\n",
    "        This function calculates the tax burden for this agent.\n",
    "        When it comes to the i^{th} agent, the previous agents' earnings would have been calculated (see the description up top).\n",
    "\n",
    "        Inputs:\n",
    "        tax_schedule: a list of tuples (cutoff, rate), where the i^{th} entry is (w(z_i), T'(w))\n",
    "\n",
    "        Returns:\n",
    "        (float) tax burden\n",
    "        '''\n",
    "\n",
    "        total_tax = 0 # cumulative tax burden\n",
    "        prev_cutoff = tax_schedule[0][0]\n",
    "\n",
    "        for i in range(self.bracket - 1):\n",
    "\n",
    "            cutoff, rate = tax_schedule[i]\n",
    "            \n",
    "            if earnings < cutoff:\n",
    "                break\n",
    "\n",
    "            total_tax += rate * (cutoff - prev_cutoff)\n",
    "            prev_cutoff = cutoff\n",
    "\n",
    "        total_tax += (earnings - max(prev_cutoff, 0)) * tax_schedule[self.bracket - 1][1]\n",
    "\n",
    "        return total_tax\n",
    "    \n",
    "    def max_util(self, transfer, tax_schedule):\n",
    "        '''\n",
    "        utility maximization assuming walrus's law holds (no extra budget)\n",
    "        transfer: from the government.\n",
    "        tax schedule: see definition aboe\n",
    "        '''\n",
    "        \n",
    "        # negative of the utility function since the routine minimizes instead of optimizes\n",
    "        \n",
    "        neg_utility_func = lambda l: -1 * ((self.wage*l - self.taxes(tax_schedule, self.wage*l) + transfer)**(1 - gamma) - 1)/(1 - gamma) + alpha*(l**(sigma)) / sigma if l >= 0 else 1e9\n",
    "        result = minimize(neg_utility_func, self.ls)\n",
    "\n",
    "        self.ls = result.x[0] # new optimal labor supply\n",
    "        self.taxpaid = self.taxes(tax_schedule, self.wage*self.ls)\n",
    "        self.consumption = self.wage*self.ls - self.taxpaid + transfer\n",
    "        self.dudc = (self.wage*self.ls - self.taxes(tax_schedule, self.wage*self.ls) + transfer)**(-1 * gamma) # should do numerical differentiation for general utility functions\n",
    "\n",
    "        return self.ls*self.wage # pre-tax earnings this turn"
   ]
  },
  {
   "cell_type": "markdown",
   "metadata": {},
   "source": [
    "Intialization for the search is important for the speed of convergence. We use the previous optimal labor supply as an educated guess for the starting point of the search under the new schedule."
   ]
  },
  {
   "cell_type": "markdown",
   "metadata": {},
   "source": [
    "### 3. Iterating to find the fixed point"
   ]
  },
  {
   "cell_type": "markdown",
   "metadata": {},
   "source": [
    "#### 3.1 - Intialize a starting tax schedule $(T'(w) \\equiv 0.35)$"
   ]
  },
  {
   "cell_type": "code",
   "execution_count": 48,
   "metadata": {},
   "outputs": [
    {
     "data": {
      "text/plain": [
       "(0, 0.35)"
      ]
     },
     "execution_count": 48,
     "metadata": {},
     "output_type": "execute_result"
    }
   ],
   "source": [
    "# initially - initialize the economy - flat tax schedule\n",
    "agents = []\n",
    "tax_schedule = [(0, 0.35)]\n",
    "for wage in wages:\n",
    "    agent = Agent(wage)\n",
    "    optimal_wage = agent.max_util(transfer, tax_schedule)\n",
    "    tax_schedule.append((optimal_wage, 0.35))\n",
    "    agents.append(agent)\n",
    "tax_schedule.pop(0)"
   ]
  },
  {
   "cell_type": "markdown",
   "metadata": {},
   "source": [
    "#### Update rule:\n",
    "\n",
    "Planner's FOC (a discretized version of Saez's FOC from his seminal 2001 paper), discretized (see pg. 5 of MWY's appendix):\n",
    "\n",
    "$$\\frac{T'(z)}{(1 - T'(z))} = \\frac{1 + \\epsilon^u(w)}{\\epsilon^c(w)}\\frac{u'(c(w))}{w\\pi(w)/\\Delta}\\bigg[\\sum_{w_i = w + 1}^{w_N} \\frac{\\pi(w_i)}{u'(c(w_i))} - (1 - \\Pi(w_i)) \\sum_{w_i = w_1}^{w_N} \\frac{\\pi(w_i)}{u'(c(w_i))}\\bigg]$$"
   ]
  },
  {
   "cell_type": "code",
   "execution_count": 49,
   "metadata": {},
   "outputs": [
    {
     "name": "stdout",
     "output_type": "stream",
     "text": [
      "0 1 2 3 4 5 6 7 8 9 10 11 12 13 14 15 16 17 18 19 20 21 22 23 24 25 26 27 "
     ]
    }
   ],
   "source": [
    "iterations = 0\n",
    "\n",
    "while True:\n",
    "\n",
    "    print(iterations, end = \" \")\n",
    "\n",
    "    revenue_check = True # if the new tansfer is within 1e-6 of the prev\n",
    "    derivative_check = True # if marginal taxes are not updated by more than 1e-6\n",
    "\n",
    "    # components of RHS\n",
    "    cum_sum = [pmf[0]/agents[0].dudc]\n",
    "    for (idx, agent) in enumerate(agents[1:]):\n",
    "        cum_sum.append(cum_sum[-1] + pmf[idx]/agent.dudc)\n",
    "\n",
    "    for (index, agent) in enumerate(agents):\n",
    "\n",
    "        # calculate the new tax rate:\n",
    "        e_c = 1/(sigma - 1 + alpha * gamma * (agent.ls**sigma) * (agent.consumption ** (gamma - 1))) # compensated elasticity\n",
    "        e_u = (1 - alpha * gamma * (agent.ls**sigma) * (agent.consumption ** (gamma - 1)))/(sigma - 1 + alpha * gamma * (agent.ls**sigma) * (agent.consumption ** (gamma - 1))) # uncompensated elasticity\n",
    "        middle_term = agent.dudc/(wages[index] * pmf[index] / bin)\n",
    "        right_term = (cum_sum[-1] - cum_sum[index]) - (1 - cdf[index]) * cum_sum[-1]\n",
    "        rhs = (1 + e_u)/e_c * middle_term * right_term\n",
    "        new_rate = rhs / (1 + rhs)\n",
    "\n",
    "        # find the new schedule\n",
    "        if abs(new_rate - tax_schedule[index][1]) > tol:\n",
    "            derivative_check = False\n",
    "        \n",
    "        tax_schedule[index] = (tax_schedule[index][0], new_rate)\n",
    "\n",
    "    # find the government revenue under this new schedule\n",
    "    revenue = 0\n",
    "    for (index, agent) in enumerate(agents):\n",
    "        pre_tax_earning = agent.max_util(transfer, tax_schedule)\n",
    "        revenue += agent.taxpaid * pmf[index]\n",
    "        tax_schedule[index] = (pre_tax_earning, tax_schedule[index][1])\n",
    "\n",
    "    if abs(transfer - revenue) > tol:\n",
    "        revenue_check = False\n",
    "\n",
    "    transfer = revenue\n",
    "     \n",
    "    if revenue_check and derivative_check:\n",
    "        break\n",
    "\n",
    "    for (index, agent) in enumerate(agents):\n",
    "        pre_tax_earning = agent.max_util(transfer, tax_schedule) # now again with the new transfer\n",
    "        tax_schedule[index] = (pre_tax_earning, tax_schedule[index][1])\n",
    "\n",
    "    iterations += 1"
   ]
  },
  {
   "cell_type": "markdown",
   "metadata": {},
   "source": [
    "### Visuals:"
   ]
  },
  {
   "cell_type": "code",
   "execution_count": 50,
   "metadata": {},
   "outputs": [
    {
     "data": {
      "text/plain": [
       "[<matplotlib.lines.Line2D at 0x202e3254290>]"
      ]
     },
     "execution_count": 50,
     "metadata": {},
     "output_type": "execute_result"
    },
    {
     "data": {
      "image/png": "[encoded data removed]",
      "text/plain": [
       "<Figure size 640x480 with 1 Axes>"
      ]
     },
     "metadata": {},
     "output_type": "display_data"
    }
   ],
   "source": [
    "changes = []\n",
    "rate = []\n",
    "\n",
    "for point in tax_schedule:\n",
    "    changes.append(point[0] * scaling)\n",
    "    rate.append(point[1])\n",
    "\n",
    "plt.plot(changes, rate)"
   ]
  }
 ],
 "metadata": {
  "kernelspec": {
   "display_name": "Python 3",
   "language": "python",
   "name": "python3"
  },
  "language_info": {
   "codemirror_mode": {
    "name": "ipython",
    "version": 3
   },
   "file_extension": ".py",
   "mimetype": "text/x-python",
   "name": "python",
   "nbconvert_exporter": "python",
   "pygments_lexer": "ipython3",
   "version": "3.11.1"
  }
 },
 "nbformat": 4,
 "nbformat_minor": 2
}
